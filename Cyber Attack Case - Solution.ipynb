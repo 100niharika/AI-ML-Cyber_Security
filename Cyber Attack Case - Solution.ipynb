{
 "cells": [
  {
   "cell_type": "code",
   "execution_count": 1,
   "id": "f4da639a",
   "metadata": {},
   "outputs": [],
   "source": [
    "# Importing libraries and packages\n",
    "\n",
    "import pandas as pd\n",
    "import numpy as np\n",
    "import matplotlib.pyplot as plt\n",
    "import seaborn as sns\n",
    "\n",
    "from sklearn.model_selection import train_test_split\n",
    "from sklearn.metrics import classification_report, confusion_matrix\n",
    "from sklearn.preprocessing import LabelEncoder,StandardScaler,OneHotEncoder\n",
    "from sklearn.ensemble import RandomForestClassifier, IsolationForest"
   ]
  },
  {
   "cell_type": "code",
   "execution_count": 2,
   "id": "0c59b3d6",
   "metadata": {},
   "outputs": [],
   "source": [
    "# Reading datasets required for analysis\n",
    "\n",
    "\n",
    "file_path={\n",
    "    'Normal':'.\\Data_of_Attack_Back_Normal.csv',\n",
    "    'Back':'.\\Data_of_Attack_Back.csv',\n",
    "    'BufferOverflow':'.\\Data_of_Attack_Back_BufferOverflow.csv',\n",
    "    'FTPWrite':'.\\Data_of_Attack_Back_FTPWrite.csv',\n",
    "    'GuessPassword':'.\\Data_of_Attack_Back_GuessPassword.csv',\n",
    "    'Neptune':'.\\Data_of_Attack_Back_Neptune.csv',\n",
    "    'NMap':'.\\Data_of_Attack_Back_NMap.csv',\n",
    "    'PortSweep':'.\\Data_of_Attack_Back_PortSweep.csv',\n",
    "    'RootKit':'.\\Data_of_Attack_Back_RootKit.csv',\n",
    "    'Satan':'.\\Data_of_Attack_Back_Satan.csv',\n",
    "    'Smurf':'.\\Data_of_Attack_Back_Smurf.csv'\n",
    "    }"
   ]
  },
  {
   "cell_type": "code",
   "execution_count": 3,
   "id": "2034d786",
   "metadata": {},
   "outputs": [],
   "source": [
    "# extracting attack names from different file names and assigning it to a new column\n",
    "\n",
    "df_list=[]\n",
    "for label,path in file_path.items():\n",
    "    df=pd.read_csv(path)\n",
    "    df['attack']=label \n",
    "    df_list.append(df)\n",
    "    \n",
    "# combining all in one master dataset\n",
    "\n",
    "data=pd.concat(df_list,ignore_index=True)"
   ]
  },
  {
   "cell_type": "code",
   "execution_count": 4,
   "id": "9275eb17",
   "metadata": {},
   "outputs": [
    {
     "data": {
      "text/html": [
       "<div>\n",
       "<style scoped>\n",
       "    .dataframe tbody tr th:only-of-type {\n",
       "        vertical-align: middle;\n",
       "    }\n",
       "\n",
       "    .dataframe tbody tr th {\n",
       "        vertical-align: top;\n",
       "    }\n",
       "\n",
       "    .dataframe thead th {\n",
       "        text-align: right;\n",
       "    }\n",
       "</style>\n",
       "<table border=\"1\" class=\"dataframe\">\n",
       "  <thead>\n",
       "    <tr style=\"text-align: right;\">\n",
       "      <th></th>\n",
       "      <th>duration</th>\n",
       "      <th>protocol_type</th>\n",
       "      <th>service</th>\n",
       "      <th>flag</th>\n",
       "      <th>src_bytes</th>\n",
       "      <th>dst_bytes</th>\n",
       "      <th>land</th>\n",
       "      <th>wrong_fragment</th>\n",
       "      <th>urgent</th>\n",
       "      <th>hot</th>\n",
       "      <th>...</th>\n",
       "      <th>0.001.2</th>\n",
       "      <th>0.001.3</th>\n",
       "      <th>0.1.5</th>\n",
       "      <th>0.21</th>\n",
       "      <th>0.1.6</th>\n",
       "      <th>0.22</th>\n",
       "      <th>0.23</th>\n",
       "      <th>0.24</th>\n",
       "      <th>0.25</th>\n",
       "      <th>0.26</th>\n",
       "    </tr>\n",
       "  </thead>\n",
       "  <tbody>\n",
       "    <tr>\n",
       "      <th>0</th>\n",
       "      <td>0.0</td>\n",
       "      <td>0.0</td>\n",
       "      <td>0.0</td>\n",
       "      <td>0.0</td>\n",
       "      <td>0.00215</td>\n",
       "      <td>0.45076</td>\n",
       "      <td>0.0</td>\n",
       "      <td>0.0</td>\n",
       "      <td>0.0</td>\n",
       "      <td>0.0</td>\n",
       "      <td>...</td>\n",
       "      <td>NaN</td>\n",
       "      <td>NaN</td>\n",
       "      <td>NaN</td>\n",
       "      <td>NaN</td>\n",
       "      <td>NaN</td>\n",
       "      <td>NaN</td>\n",
       "      <td>NaN</td>\n",
       "      <td>NaN</td>\n",
       "      <td>NaN</td>\n",
       "      <td>NaN</td>\n",
       "    </tr>\n",
       "    <tr>\n",
       "      <th>1</th>\n",
       "      <td>0.0</td>\n",
       "      <td>0.0</td>\n",
       "      <td>0.0</td>\n",
       "      <td>0.0</td>\n",
       "      <td>0.00162</td>\n",
       "      <td>0.04528</td>\n",
       "      <td>0.0</td>\n",
       "      <td>0.0</td>\n",
       "      <td>0.0</td>\n",
       "      <td>0.0</td>\n",
       "      <td>...</td>\n",
       "      <td>NaN</td>\n",
       "      <td>NaN</td>\n",
       "      <td>NaN</td>\n",
       "      <td>NaN</td>\n",
       "      <td>NaN</td>\n",
       "      <td>NaN</td>\n",
       "      <td>NaN</td>\n",
       "      <td>NaN</td>\n",
       "      <td>NaN</td>\n",
       "      <td>NaN</td>\n",
       "    </tr>\n",
       "    <tr>\n",
       "      <th>2</th>\n",
       "      <td>0.0</td>\n",
       "      <td>0.0</td>\n",
       "      <td>0.0</td>\n",
       "      <td>0.0</td>\n",
       "      <td>0.00236</td>\n",
       "      <td>0.01228</td>\n",
       "      <td>0.0</td>\n",
       "      <td>0.0</td>\n",
       "      <td>0.0</td>\n",
       "      <td>0.0</td>\n",
       "      <td>...</td>\n",
       "      <td>NaN</td>\n",
       "      <td>NaN</td>\n",
       "      <td>NaN</td>\n",
       "      <td>NaN</td>\n",
       "      <td>NaN</td>\n",
       "      <td>NaN</td>\n",
       "      <td>NaN</td>\n",
       "      <td>NaN</td>\n",
       "      <td>NaN</td>\n",
       "      <td>NaN</td>\n",
       "    </tr>\n",
       "    <tr>\n",
       "      <th>3</th>\n",
       "      <td>0.0</td>\n",
       "      <td>0.0</td>\n",
       "      <td>0.0</td>\n",
       "      <td>0.0</td>\n",
       "      <td>0.00233</td>\n",
       "      <td>0.02032</td>\n",
       "      <td>0.0</td>\n",
       "      <td>0.0</td>\n",
       "      <td>0.0</td>\n",
       "      <td>0.0</td>\n",
       "      <td>...</td>\n",
       "      <td>NaN</td>\n",
       "      <td>NaN</td>\n",
       "      <td>NaN</td>\n",
       "      <td>NaN</td>\n",
       "      <td>NaN</td>\n",
       "      <td>NaN</td>\n",
       "      <td>NaN</td>\n",
       "      <td>NaN</td>\n",
       "      <td>NaN</td>\n",
       "      <td>NaN</td>\n",
       "    </tr>\n",
       "    <tr>\n",
       "      <th>4</th>\n",
       "      <td>0.0</td>\n",
       "      <td>0.0</td>\n",
       "      <td>0.0</td>\n",
       "      <td>0.0</td>\n",
       "      <td>0.00239</td>\n",
       "      <td>0.00486</td>\n",
       "      <td>0.0</td>\n",
       "      <td>0.0</td>\n",
       "      <td>0.0</td>\n",
       "      <td>0.0</td>\n",
       "      <td>...</td>\n",
       "      <td>NaN</td>\n",
       "      <td>NaN</td>\n",
       "      <td>NaN</td>\n",
       "      <td>NaN</td>\n",
       "      <td>NaN</td>\n",
       "      <td>NaN</td>\n",
       "      <td>NaN</td>\n",
       "      <td>NaN</td>\n",
       "      <td>NaN</td>\n",
       "      <td>NaN</td>\n",
       "    </tr>\n",
       "  </tbody>\n",
       "</table>\n",
       "<p>5 rows × 83 columns</p>\n",
       "</div>"
      ],
      "text/plain": [
       "   duration   protocol_type   service   flag   src_bytes   dst_bytes   land  \\\n",
       "0       0.0             0.0       0.0    0.0     0.00215     0.45076    0.0   \n",
       "1       0.0             0.0       0.0    0.0     0.00162     0.04528    0.0   \n",
       "2       0.0             0.0       0.0    0.0     0.00236     0.01228    0.0   \n",
       "3       0.0             0.0       0.0    0.0     0.00233     0.02032    0.0   \n",
       "4       0.0             0.0       0.0    0.0     0.00239     0.00486    0.0   \n",
       "\n",
       "    wrong_fragment   urgent   hot  ...   0.001.2   0.001.3   0.1.5   0.21  \\\n",
       "0              0.0      0.0   0.0  ...       NaN       NaN     NaN    NaN   \n",
       "1              0.0      0.0   0.0  ...       NaN       NaN     NaN    NaN   \n",
       "2              0.0      0.0   0.0  ...       NaN       NaN     NaN    NaN   \n",
       "3              0.0      0.0   0.0  ...       NaN       NaN     NaN    NaN   \n",
       "4              0.0      0.0   0.0  ...       NaN       NaN     NaN    NaN   \n",
       "\n",
       "    0.1.6   0.22   0.23   0.24   0.25   0.26  \n",
       "0     NaN    NaN    NaN    NaN    NaN    NaN  \n",
       "1     NaN    NaN    NaN    NaN    NaN    NaN  \n",
       "2     NaN    NaN    NaN    NaN    NaN    NaN  \n",
       "3     NaN    NaN    NaN    NaN    NaN    NaN  \n",
       "4     NaN    NaN    NaN    NaN    NaN    NaN  \n",
       "\n",
       "[5 rows x 83 columns]"
      ]
     },
     "execution_count": 4,
     "metadata": {},
     "output_type": "execute_result"
    }
   ],
   "source": [
    "data.head()"
   ]
  },
  {
   "cell_type": "code",
   "execution_count": 5,
   "id": "a0af2324",
   "metadata": {},
   "outputs": [
    {
     "data": {
      "text/plain": [
       "Normal            576710\n",
       "Neptune           227228\n",
       "Satan               5019\n",
       "Smurf               3007\n",
       "PortSweep           2964\n",
       "NMap                1554\n",
       "Back                 968\n",
       "GuessPassword         53\n",
       "BufferOverflow        30\n",
       "RootKit               10\n",
       "FTPWrite               7\n",
       "Name: attack, dtype: int64"
      ]
     },
     "execution_count": 5,
     "metadata": {},
     "output_type": "execute_result"
    }
   ],
   "source": [
    "data.attack.value_counts()"
   ]
  },
  {
   "cell_type": "code",
   "execution_count": 6,
   "id": "58196c89",
   "metadata": {},
   "outputs": [
    {
     "name": "stdout",
     "output_type": "stream",
     "text": [
      "<class 'pandas.core.frame.DataFrame'>\n",
      "RangeIndex: 817550 entries, 0 to 817549\n",
      "Data columns (total 83 columns):\n",
      " #   Column                        Non-Null Count   Dtype  \n",
      "---  ------                        --------------   -----  \n",
      " 0   duration                      817543 non-null  float64\n",
      " 1    protocol_type                817543 non-null  float64\n",
      " 2    service                      817543 non-null  float64\n",
      " 3    flag                         817543 non-null  float64\n",
      " 4    src_bytes                    817543 non-null  float64\n",
      " 5    dst_bytes                    817543 non-null  float64\n",
      " 6    land                         817543 non-null  float64\n",
      " 7    wrong_fragment               817543 non-null  float64\n",
      " 8    urgent                       817543 non-null  float64\n",
      " 9    hot                          817543 non-null  float64\n",
      " 10   num_failed_logins            817543 non-null  float64\n",
      " 11   logged_in                    817543 non-null  float64\n",
      " 12   num_compromised              817543 non-null  float64\n",
      " 13   root_shell                   817543 non-null  float64\n",
      " 14   su_attempted                 817543 non-null  float64\n",
      " 15   num_root                     817543 non-null  float64\n",
      " 16   num_file_creations           817543 non-null  float64\n",
      " 17   num_shells                   817543 non-null  float64\n",
      " 18   num_access_files             817543 non-null  float64\n",
      " 19   num_outbound_cmds            817543 non-null  float64\n",
      " 20   is_host_login                817543 non-null  float64\n",
      " 21   is_guest_login               817543 non-null  float64\n",
      " 22   count                        817543 non-null  float64\n",
      " 23   srv_count                    817543 non-null  float64\n",
      " 24   serror_rate                  817543 non-null  float64\n",
      " 25   srv_error_rate               817543 non-null  float64\n",
      " 26   rerror_rate                  817543 non-null  float64\n",
      " 27   srv_rerror_rate              817543 non-null  float64\n",
      " 28   same_srv_rate                817543 non-null  float64\n",
      " 29   diff_srv_rate                817543 non-null  float64\n",
      " 30   srv_diff_host_rate           817543 non-null  float64\n",
      " 31   dst_host_count               817543 non-null  float64\n",
      " 32   dst_host_srv_count           817543 non-null  float64\n",
      " 33   dst_host_same_srv_rate       817543 non-null  float64\n",
      " 34   dst_host_diff_srv_rate       817543 non-null  float64\n",
      " 35   dst_host_same_src_port_rate  817543 non-null  float64\n",
      " 36   dst_host_srv_diff_host_rate  817543 non-null  float64\n",
      " 37   dst_host_serror_rate         817543 non-null  float64\n",
      " 38   dst_host_srv_serror_rate     817543 non-null  float64\n",
      " 39   dst_host_rerror_rate         817543 non-null  float64\n",
      " 40   dst_host_srv_rerror_rate     817543 non-null  float64\n",
      " 41  attack                        817550 non-null  object \n",
      " 42  0.0026                        7 non-null       float64\n",
      " 43   0                            7 non-null       float64\n",
      " 44   0.07                         7 non-null       float64\n",
      " 45   0.3                          7 non-null       float64\n",
      " 46   0.00116                      7 non-null       float64\n",
      " 47   0.00451                      7 non-null       float64\n",
      " 48   0.4                          7 non-null       float64\n",
      " 49   0.5                          7 non-null       float64\n",
      " 50   0.6                          7 non-null       float64\n",
      " 51   0.2                          7 non-null       float64\n",
      " 52   0.7                          7 non-null       float64\n",
      " 53   0.1                          7 non-null       float64\n",
      " 54   0.8                          7 non-null       float64\n",
      " 55   0.9                          7 non-null       float64\n",
      " 56   0.10                         7 non-null       float64\n",
      " 57   0.11                         7 non-null       float64\n",
      " 58   0.1.1                        7 non-null       float64\n",
      " 59   0.12                         7 non-null       float64\n",
      " 60   0.1.2                        7 non-null       float64\n",
      " 61   0.13                         7 non-null       float64\n",
      " 62   0.14                         7 non-null       float64\n",
      " 63   0.1.3                        7 non-null       float64\n",
      " 64   0.001                        7 non-null       float64\n",
      " 65   0.001.1                      7 non-null       float64\n",
      " 66   0.15                         7 non-null       float64\n",
      " 67   0.16                         7 non-null       float64\n",
      " 68   0.17                         7 non-null       float64\n",
      " 69   0.18                         7 non-null       float64\n",
      " 70   0.1.4                        7 non-null       float64\n",
      " 71   0.19                         7 non-null       float64\n",
      " 72   0.20                         7 non-null       float64\n",
      " 73   0.001.2                      7 non-null       float64\n",
      " 74   0.001.3                      7 non-null       float64\n",
      " 75   0.1.5                        7 non-null       float64\n",
      " 76   0.21                         7 non-null       float64\n",
      " 77   0.1.6                        7 non-null       float64\n",
      " 78   0.22                         7 non-null       float64\n",
      " 79   0.23                         7 non-null       float64\n",
      " 80   0.24                         7 non-null       float64\n",
      " 81   0.25                         7 non-null       float64\n",
      " 82   0.26                         7 non-null       float64\n",
      "dtypes: float64(82), object(1)\n",
      "memory usage: 517.7+ MB\n"
     ]
    }
   ],
   "source": [
    "data.info() # checking datatypes, columns, null values"
   ]
  },
  {
   "cell_type": "code",
   "execution_count": 7,
   "id": "488a4a8c",
   "metadata": {},
   "outputs": [],
   "source": [
    "# dropping invalid columns that are not required, as those are just numbers, doesnt signify anything\n",
    "\n",
    "valid_cols=list(data.columns[:42])\n",
    "data=data[valid_cols]"
   ]
  },
  {
   "cell_type": "code",
   "execution_count": 8,
   "id": "126e8c04",
   "metadata": {},
   "outputs": [
    {
     "name": "stdout",
     "output_type": "stream",
     "text": [
      "<class 'pandas.core.frame.DataFrame'>\n",
      "RangeIndex: 817550 entries, 0 to 817549\n",
      "Data columns (total 42 columns):\n",
      " #   Column                        Non-Null Count   Dtype  \n",
      "---  ------                        --------------   -----  \n",
      " 0   duration                      817543 non-null  float64\n",
      " 1    protocol_type                817543 non-null  float64\n",
      " 2    service                      817543 non-null  float64\n",
      " 3    flag                         817543 non-null  float64\n",
      " 4    src_bytes                    817543 non-null  float64\n",
      " 5    dst_bytes                    817543 non-null  float64\n",
      " 6    land                         817543 non-null  float64\n",
      " 7    wrong_fragment               817543 non-null  float64\n",
      " 8    urgent                       817543 non-null  float64\n",
      " 9    hot                          817543 non-null  float64\n",
      " 10   num_failed_logins            817543 non-null  float64\n",
      " 11   logged_in                    817543 non-null  float64\n",
      " 12   num_compromised              817543 non-null  float64\n",
      " 13   root_shell                   817543 non-null  float64\n",
      " 14   su_attempted                 817543 non-null  float64\n",
      " 15   num_root                     817543 non-null  float64\n",
      " 16   num_file_creations           817543 non-null  float64\n",
      " 17   num_shells                   817543 non-null  float64\n",
      " 18   num_access_files             817543 non-null  float64\n",
      " 19   num_outbound_cmds            817543 non-null  float64\n",
      " 20   is_host_login                817543 non-null  float64\n",
      " 21   is_guest_login               817543 non-null  float64\n",
      " 22   count                        817543 non-null  float64\n",
      " 23   srv_count                    817543 non-null  float64\n",
      " 24   serror_rate                  817543 non-null  float64\n",
      " 25   srv_error_rate               817543 non-null  float64\n",
      " 26   rerror_rate                  817543 non-null  float64\n",
      " 27   srv_rerror_rate              817543 non-null  float64\n",
      " 28   same_srv_rate                817543 non-null  float64\n",
      " 29   diff_srv_rate                817543 non-null  float64\n",
      " 30   srv_diff_host_rate           817543 non-null  float64\n",
      " 31   dst_host_count               817543 non-null  float64\n",
      " 32   dst_host_srv_count           817543 non-null  float64\n",
      " 33   dst_host_same_srv_rate       817543 non-null  float64\n",
      " 34   dst_host_diff_srv_rate       817543 non-null  float64\n",
      " 35   dst_host_same_src_port_rate  817543 non-null  float64\n",
      " 36   dst_host_srv_diff_host_rate  817543 non-null  float64\n",
      " 37   dst_host_serror_rate         817543 non-null  float64\n",
      " 38   dst_host_srv_serror_rate     817543 non-null  float64\n",
      " 39   dst_host_rerror_rate         817543 non-null  float64\n",
      " 40   dst_host_srv_rerror_rate     817543 non-null  float64\n",
      " 41  attack                        817550 non-null  object \n",
      "dtypes: float64(41), object(1)\n",
      "memory usage: 262.0+ MB\n"
     ]
    }
   ],
   "source": [
    "data.info() # rechecking if we have valid columns"
   ]
  },
  {
   "cell_type": "code",
   "execution_count": 9,
   "id": "a3ce83a9",
   "metadata": {},
   "outputs": [],
   "source": [
    "data.dropna(inplace=True) # droping any missing values"
   ]
  },
  {
   "cell_type": "code",
   "execution_count": 10,
   "id": "3a0eaad8",
   "metadata": {},
   "outputs": [],
   "source": [
    "# Binary Classification - to attack and normal for differentiation\n",
    "\n",
    "data['attack_binary']=data['attack'].apply(lambda x: 'normal' if x=='Normal' else 'attack')"
   ]
  },
  {
   "cell_type": "code",
   "execution_count": 11,
   "id": "f2c51ce0",
   "metadata": {},
   "outputs": [
    {
     "data": {
      "text/plain": [
       "normal    576710\n",
       "attack    240833\n",
       "Name: attack_binary, dtype: int64"
      ]
     },
     "execution_count": 11,
     "metadata": {},
     "output_type": "execute_result"
    }
   ],
   "source": [
    "data.attack_binary.value_counts() # nomber of attacks for these categories"
   ]
  },
  {
   "cell_type": "code",
   "execution_count": 12,
   "id": "347ef365",
   "metadata": {},
   "outputs": [],
   "source": [
    "# Multiclass mapping of data\n",
    "\n",
    "data['multiclass_attack']=data['attack'].apply(lambda x: x.lower())"
   ]
  },
  {
   "cell_type": "code",
   "execution_count": 13,
   "id": "1de68274",
   "metadata": {},
   "outputs": [
    {
     "data": {
      "text/plain": [
       "normal            576710\n",
       "neptune           227228\n",
       "satan               5019\n",
       "smurf               3007\n",
       "portsweep           2964\n",
       "nmap                1554\n",
       "back                 968\n",
       "guesspassword         53\n",
       "bufferoverflow        30\n",
       "rootkit               10\n",
       "Name: multiclass_attack, dtype: int64"
      ]
     },
     "execution_count": 13,
     "metadata": {},
     "output_type": "execute_result"
    }
   ],
   "source": [
    "data.multiclass_attack.value_counts() # nomber of attacks for these categories"
   ]
  },
  {
   "cell_type": "code",
   "execution_count": 15,
   "id": "37c6505d",
   "metadata": {},
   "outputs": [
    {
     "name": "stdout",
     "output_type": "stream",
     "text": [
      "<class 'pandas.core.frame.DataFrame'>\n",
      "Int64Index: 817543 entries, 0 to 817549\n",
      "Data columns (total 44 columns):\n",
      " #   Column                        Non-Null Count   Dtype  \n",
      "---  ------                        --------------   -----  \n",
      " 0   duration                      817543 non-null  float64\n",
      " 1    protocol_type                817543 non-null  float64\n",
      " 2    service                      817543 non-null  float64\n",
      " 3    flag                         817543 non-null  float64\n",
      " 4    src_bytes                    817543 non-null  float64\n",
      " 5    dst_bytes                    817543 non-null  float64\n",
      " 6    land                         817543 non-null  float64\n",
      " 7    wrong_fragment               817543 non-null  float64\n",
      " 8    urgent                       817543 non-null  float64\n",
      " 9    hot                          817543 non-null  float64\n",
      " 10   num_failed_logins            817543 non-null  float64\n",
      " 11   logged_in                    817543 non-null  float64\n",
      " 12   num_compromised              817543 non-null  float64\n",
      " 13   root_shell                   817543 non-null  float64\n",
      " 14   su_attempted                 817543 non-null  float64\n",
      " 15   num_root                     817543 non-null  float64\n",
      " 16   num_file_creations           817543 non-null  float64\n",
      " 17   num_shells                   817543 non-null  float64\n",
      " 18   num_access_files             817543 non-null  float64\n",
      " 19   num_outbound_cmds            817543 non-null  float64\n",
      " 20   is_host_login                817543 non-null  float64\n",
      " 21   is_guest_login               817543 non-null  float64\n",
      " 22   count                        817543 non-null  float64\n",
      " 23   srv_count                    817543 non-null  float64\n",
      " 24   serror_rate                  817543 non-null  float64\n",
      " 25   srv_error_rate               817543 non-null  float64\n",
      " 26   rerror_rate                  817543 non-null  float64\n",
      " 27   srv_rerror_rate              817543 non-null  float64\n",
      " 28   same_srv_rate                817543 non-null  float64\n",
      " 29   diff_srv_rate                817543 non-null  float64\n",
      " 30   srv_diff_host_rate           817543 non-null  float64\n",
      " 31   dst_host_count               817543 non-null  float64\n",
      " 32   dst_host_srv_count           817543 non-null  float64\n",
      " 33   dst_host_same_srv_rate       817543 non-null  float64\n",
      " 34   dst_host_diff_srv_rate       817543 non-null  float64\n",
      " 35   dst_host_same_src_port_rate  817543 non-null  float64\n",
      " 36   dst_host_srv_diff_host_rate  817543 non-null  float64\n",
      " 37   dst_host_serror_rate         817543 non-null  float64\n",
      " 38   dst_host_srv_serror_rate     817543 non-null  float64\n",
      " 39   dst_host_rerror_rate         817543 non-null  float64\n",
      " 40   dst_host_srv_rerror_rate     817543 non-null  float64\n",
      " 41  attack                        817543 non-null  object \n",
      " 42  attack_binary                 817543 non-null  object \n",
      " 43  multiclass_attack             817543 non-null  object \n",
      "dtypes: float64(41), object(3)\n",
      "memory usage: 280.7+ MB\n"
     ]
    }
   ],
   "source": [
    "data.info()"
   ]
  },
  {
   "cell_type": "code",
   "execution_count": 20,
   "id": "a73e1fa9",
   "metadata": {},
   "outputs": [],
   "source": [
    "# feature selection - splitting dataset to binary classification\n",
    "\n",
    "X_bin=data.drop(['attack','attack_binary','multiclass_attack'],axis=1)\n",
    "y_bin=data['attack_binary']\n",
    "#y_mult=data['attack']"
   ]
  },
  {
   "cell_type": "code",
   "execution_count": 21,
   "id": "7fd0a547",
   "metadata": {},
   "outputs": [],
   "source": [
    "# Standardizing features\n",
    "\n",
    "scaler=StandardScaler()\n",
    "X_bin_scale=scaler.fit_transform(X_bin)"
   ]
  },
  {
   "cell_type": "code",
   "execution_count": 22,
   "id": "30167b0c",
   "metadata": {},
   "outputs": [
    {
     "name": "stdout",
     "output_type": "stream",
     "text": [
      " Binary Classification Report:                precision    recall  f1-score   support\n",
      "\n",
      "      attack       1.00      1.00      1.00     47987\n",
      "      normal       1.00      1.00      1.00    115522\n",
      "\n",
      "    accuracy                           1.00    163509\n",
      "   macro avg       1.00      1.00      1.00    163509\n",
      "weighted avg       1.00      1.00      1.00    163509\n",
      "\n"
     ]
    }
   ],
   "source": [
    "# binary classification\n",
    "\n",
    "X_train_b,X_test_b,y_train_b,y_test_b=train_test_split(X_bin_scale,y_bin,test_size=0.2,random_state=42) # spliting data into train and test\n",
    "model_bin=RandomForestClassifier() # classification using randomforest\n",
    "model_bin.fit(X_train_b,y_train_b)\n",
    "y_bin_pred=model_bin.predict(X_test_b)\n",
    "bin_report=classification_report(y_test_b,y_bin_pred)\n",
    "print(\" Binary Classification Report: \",bin_report)"
   ]
  },
  {
   "cell_type": "code",
   "execution_count": 26,
   "id": "9d129152",
   "metadata": {},
   "outputs": [
    {
     "data": {
      "image/png": "[encoded data removed]",
      "text/plain": [
       "<Figure size 720x432 with 2 Axes>"
      ]
     },
     "metadata": {
      "needs_background": "light"
     },
     "output_type": "display_data"
    }
   ],
   "source": [
    "# plotting confusion matrix- for binary classification\n",
    "\n",
    "plt.figure(figsize=(10,6))\n",
    "sns.heatmap(confusion_matrix(y_test_b,y_bin_pred),annot=True,fmt='d')\n",
    "plt.title('Binary classification')\n",
    "plt.xlabel('Predicted')\n",
    "plt.ylabel('Actual')\n",
    "plt.show()"
   ]
  },
  {
   "cell_type": "code",
   "execution_count": 23,
   "id": "678a65d2",
   "metadata": {},
   "outputs": [],
   "source": [
    "# Splitting data for mutlinomial classification\n",
    "\n",
    "X_multi=data.drop(['attack','attack_binary','multiclass_attack'],axis=1)\n",
    "y_multi=data['multiclass_attack']"
   ]
  },
  {
   "cell_type": "code",
   "execution_count": 25,
   "id": "eddc087c",
   "metadata": {},
   "outputs": [
    {
     "name": "stdout",
     "output_type": "stream",
     "text": [
      "Multinomial Classification report:                  precision    recall  f1-score   support\n",
      "\n",
      "          back       1.00      1.00      1.00       182\n",
      "bufferoverflow       0.78      0.88      0.82         8\n",
      " guesspassword       1.00      1.00      1.00         5\n",
      "       neptune       1.00      1.00      1.00     45249\n",
      "          nmap       0.99      1.00      1.00       311\n",
      "        normal       1.00      1.00      1.00    115522\n",
      "     portsweep       0.99      0.99      0.99       605\n",
      "       rootkit       0.50      0.50      0.50         2\n",
      "         satan       0.99      0.99      0.99      1031\n",
      "         smurf       1.00      1.00      1.00       594\n",
      "\n",
      "      accuracy                           1.00    163509\n",
      "     macro avg       0.93      0.94      0.93    163509\n",
      "  weighted avg       1.00      1.00      1.00    163509\n",
      "\n"
     ]
    }
   ],
   "source": [
    "# Standardizing the features and model creation for multinomial classification using Decision Tree model\n",
    "from sklearn.tree import DecisionTreeClassifier\n",
    "\n",
    "X_multi_scale=scaler.fit_transform(X_multi)\n",
    "X_train_m,X_test_m,y_train_m,y_test_m=train_test_split(X_multi_scale,y_multi,test_size=0.2,random_state=42) # spliting data into train and test\n",
    "model_multi=DecisionTreeClassifier() # classification using decision tree\n",
    "model_multi.fit(X_train_m,y_train_m)\n",
    "y_pred_m=model_multi.predict(X_test_m)\n",
    "multi_report=classification_report(y_test_m,y_pred_m)\n",
    "\n",
    "print(\"Multinomial Classification report: \",multi_report)"
   ]
  },
  {
   "cell_type": "code",
   "execution_count": 27,
   "id": "3dc8290f",
   "metadata": {},
   "outputs": [
    {
     "name": "stderr",
     "output_type": "stream",
     "text": [
      "C:\\Users\\Kshitiz\\anaconda3\\lib\\site-packages\\sklearn\\metrics\\_classification.py:1318: UndefinedMetricWarning: Precision and F-score are ill-defined and being set to 0.0 in labels with no predicted samples. Use `zero_division` parameter to control this behavior.\n",
      "  _warn_prf(average, modifier, msg_start, len(result))\n",
      "C:\\Users\\Kshitiz\\anaconda3\\lib\\site-packages\\sklearn\\metrics\\_classification.py:1318: UndefinedMetricWarning: Precision and F-score are ill-defined and being set to 0.0 in labels with no predicted samples. Use `zero_division` parameter to control this behavior.\n",
      "  _warn_prf(average, modifier, msg_start, len(result))\n"
     ]
    },
    {
     "name": "stdout",
     "output_type": "stream",
     "text": [
      " Multinominal Classification Report:                  precision    recall  f1-score   support\n",
      "\n",
      "          back       1.00      1.00      1.00       182\n",
      "bufferoverflow       1.00      0.88      0.93         8\n",
      " guesspassword       1.00      1.00      1.00         5\n",
      "       neptune       1.00      1.00      1.00     45249\n",
      "          nmap       1.00      1.00      1.00       311\n",
      "        normal       1.00      1.00      1.00    115522\n",
      "     portsweep       1.00      1.00      1.00       605\n",
      "       rootkit       0.00      0.00      0.00         2\n",
      "         satan       1.00      0.99      1.00      1031\n",
      "         smurf       1.00      1.00      1.00       594\n",
      "\n",
      "      accuracy                           1.00    163509\n",
      "     macro avg       0.90      0.89      0.89    163509\n",
      "  weighted avg       1.00      1.00      1.00    163509\n",
      "\n"
     ]
    },
    {
     "name": "stderr",
     "output_type": "stream",
     "text": [
      "C:\\Users\\Kshitiz\\anaconda3\\lib\\site-packages\\sklearn\\metrics\\_classification.py:1318: UndefinedMetricWarning: Precision and F-score are ill-defined and being set to 0.0 in labels with no predicted samples. Use `zero_division` parameter to control this behavior.\n",
      "  _warn_prf(average, modifier, msg_start, len(result))\n"
     ]
    }
   ],
   "source": [
    "# Multinomial Classification- using randomforest\n",
    "\n",
    "model_mult=RandomForestClassifier()\n",
    "model_mult.fit(X_train_m,y_train_m)\n",
    "y_mult_pred=model_mult.predict(X_test_m)\n",
    "mul_report=classification_report(y_test_m,y_mult_pred)\n",
    "print(\" Multinominal Classification Report: \",mul_report)"
   ]
  },
  {
   "cell_type": "code",
   "execution_count": 29,
   "id": "0d06cfdb",
   "metadata": {},
   "outputs": [
    {
     "data": {
      "image/png": "[encoded data removed]",
      "text/plain": [
       "<Figure size 720x432 with 2 Axes>"
      ]
     },
     "metadata": {
      "needs_background": "light"
     },
     "output_type": "display_data"
    }
   ],
   "source": [
    "# plotting confusion matrix - for multinomial classification\n",
    "\n",
    "plt.figure(figsize=(10,6))\n",
    "sns.heatmap(confusion_matrix(y_test_m,y_pred_m),annot=True,fmt='d')\n",
    "plt.title('Multinomial classification')\n",
    "plt.xlabel('Predicted')\n",
    "plt.ylabel('Actual')\n",
    "plt.show()"
   ]
  },
  {
   "cell_type": "code",
   "execution_count": 31,
   "id": "a3ae1393",
   "metadata": {},
   "outputs": [],
   "source": [
    "# Feature importance\n",
    "\n",
    "feature_name=X_bin.columns\n",
    "importance=model_bin.feature_importances_\n",
    "indice=np.argsort(importance)[::-1]"
   ]
  },
  {
   "cell_type": "code",
   "execution_count": 33,
   "id": "203cb7d4",
   "metadata": {},
   "outputs": [
    {
     "data": {
      "image/png": "[encoded data removed]",
      "text/plain": [
       "<Figure size 720x576 with 1 Axes>"
      ]
     },
     "metadata": {
      "needs_background": "light"
     },
     "output_type": "display_data"
    }
   ],
   "source": [
    "plt.figure(figsize=(10,8))\n",
    "plt.title('Feature Importance - Binary Classification')\n",
    "sns.barplot(x=importance[indice][:15],y=feature_name[indice][:15])\n",
    "plt.show()"
   ]
  },
  {
   "cell_type": "code",
   "execution_count": 13,
   "id": "4b881726",
   "metadata": {},
   "outputs": [],
   "source": []
  },
  {
   "cell_type": "code",
   "execution_count": null,
   "id": "4ef707ce",
   "metadata": {},
   "outputs": [],
   "source": []
  },
  {
   "cell_type": "code",
   "execution_count": null,
   "id": "3b4b08c2",
   "metadata": {},
   "outputs": [],
   "source": []
  },
  {
   "cell_type": "code",
   "execution_count": null,
   "id": "79aef5e3",
   "metadata": {},
   "outputs": [],
   "source": []
  }
 ],
 "metadata": {
  "kernelspec": {
   "display_name": "Python 3 (ipykernel)",
   "language": "python",
   "name": "python3"
  },
  "language_info": {
   "codemirror_mode": {
    "name": "ipython",
    "version": 3
   },
   "file_extension": ".py",
   "mimetype": "text/x-python",
   "name": "python",
   "nbconvert_exporter": "python",
   "pygments_lexer": "ipython3",
   "version": "3.9.12"
  }
 },
 "nbformat": 4,
 "nbformat_minor": 5
}
